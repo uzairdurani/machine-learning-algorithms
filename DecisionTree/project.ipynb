{
 "cells": [
  {
   "cell_type": "code",
   "execution_count": 1,
   "metadata": {},
   "outputs": [],
   "source": [
    "import pandas as pd"
   ]
  },
  {
   "cell_type": "code",
   "execution_count": 158,
   "metadata": {},
   "outputs": [
    {
     "data": {
      "text/html": [
       "<div>\n",
       "<style scoped>\n",
       "    .dataframe tbody tr th:only-of-type {\n",
       "        vertical-align: middle;\n",
       "    }\n",
       "\n",
       "    .dataframe tbody tr th {\n",
       "        vertical-align: top;\n",
       "    }\n",
       "\n",
       "    .dataframe thead th {\n",
       "        text-align: right;\n",
       "    }\n",
       "</style>\n",
       "<table border=\"1\" class=\"dataframe\">\n",
       "  <thead>\n",
       "    <tr style=\"text-align: right;\">\n",
       "      <th></th>\n",
       "      <th>DATE</th>\n",
       "      <th>ORIGIN</th>\n",
       "      <th>DESTINATION</th>\n",
       "      <th>TIME_TAKEN</th>\n",
       "      <th>KMS</th>\n",
       "      <th>BUS_NUM</th>\n",
       "      <th>TRAVELS</th>\n",
       "    </tr>\n",
       "  </thead>\n",
       "  <tbody>\n",
       "    <tr>\n",
       "      <th>0</th>\n",
       "      <td>1</td>\n",
       "      <td>GNT</td>\n",
       "      <td>HYD</td>\n",
       "      <td>5.0</td>\n",
       "      <td>350</td>\n",
       "      <td>AA11</td>\n",
       "      <td>KESINENI</td>\n",
       "    </tr>\n",
       "    <tr>\n",
       "      <th>1</th>\n",
       "      <td>1</td>\n",
       "      <td>HYD</td>\n",
       "      <td>GNT</td>\n",
       "      <td>6.0</td>\n",
       "      <td>380</td>\n",
       "      <td>AA11</td>\n",
       "      <td>KESINENI</td>\n",
       "    </tr>\n",
       "    <tr>\n",
       "      <th>2</th>\n",
       "      <td>2</td>\n",
       "      <td>BZA</td>\n",
       "      <td>VIZ</td>\n",
       "      <td>7.0</td>\n",
       "      <td>330</td>\n",
       "      <td>BB22</td>\n",
       "      <td>MORING</td>\n",
       "    </tr>\n",
       "    <tr>\n",
       "      <th>3</th>\n",
       "      <td>2</td>\n",
       "      <td>ONG</td>\n",
       "      <td>GNT</td>\n",
       "      <td>4.0</td>\n",
       "      <td>200</td>\n",
       "      <td>BB33</td>\n",
       "      <td>MORING</td>\n",
       "    </tr>\n",
       "    <tr>\n",
       "      <th>4</th>\n",
       "      <td>2</td>\n",
       "      <td>NEL</td>\n",
       "      <td>BZA</td>\n",
       "      <td>7.0</td>\n",
       "      <td>320</td>\n",
       "      <td>BB44</td>\n",
       "      <td>VLR</td>\n",
       "    </tr>\n",
       "  </tbody>\n",
       "</table>\n",
       "</div>"
      ],
      "text/plain": [
       "   DATE ORIGIN DESTINATION  TIME_TAKEN  KMS BUS_NUM   TRAVELS\n",
       "0     1    GNT         HYD         5.0  350    AA11  KESINENI\n",
       "1     1    HYD         GNT         6.0  380    AA11  KESINENI\n",
       "2     2    BZA         VIZ         7.0  330    BB22    MORING\n",
       "3     2    ONG         GNT         4.0  200    BB33    MORING\n",
       "4     2    NEL         BZA         7.0  320    BB44       VLR"
      ]
     },
     "execution_count": 158,
     "metadata": {},
     "output_type": "execute_result"
    }
   ],
   "source": [
    "df = pd.read_csv('sample-2.csv')\n",
    "df.head()"
   ]
  },
  {
   "cell_type": "code",
   "execution_count": 159,
   "metadata": {
    "scrolled": true
   },
   "outputs": [],
   "source": [
    "\n",
    "valuess = []\n"
   ]
  },
  {
   "cell_type": "code",
   "execution_count": 162,
   "metadata": {},
   "outputs": [],
   "source": [
    "for i in range(1,len(df)):\n",
    "    if  (df.iloc[i].DATE == df.iloc[i-1].DATE) and (df.iloc[i].TRAVELS == df.iloc[i-1].TRAVELS):\n",
    "        if df.iloc[i-1].ORIGIN == df.iloc[i].DESTINATION:\n",
    "            values = []\n",
    "            value = df.iloc[i-1].ORIGIN +\" \"+df.iloc[i-1].DESTINATION + '|'+df.iloc[i].ORIGIN +\" \"+df.iloc[i].DESTINATION\n",
    "            values.append(value)\n",
    "            values.append(df.iloc[i-1].TIME_TAKEN)\n",
    "            values.append(df.iloc[i].TIME_TAKEN)\n",
    "            values.append(df.iloc[i-1].KMS)\n",
    "            values.append(df.iloc[i].KMS)\n",
    "            values.append(df.iloc[i].TRAVELS)\n",
    "                  \n",
    "        "
   ]
  },
  {
   "cell_type": "code",
   "execution_count": 163,
   "metadata": {},
   "outputs": [
    {
     "data": {
      "text/plain": [
       "[['GNT HYD|HYD GNT', 5.0, 6.0, 350, 380, 'KESINENI'],\n",
       " ['ANT GNT|GNT ANT', 7.0, 7.5, 340, 360, 'KKR']]"
      ]
     },
     "execution_count": 163,
     "metadata": {},
     "output_type": "execute_result"
    }
   ],
   "source": [
    "valuess"
   ]
  },
  {
   "cell_type": "code",
   "execution_count": 164,
   "metadata": {},
   "outputs": [
    {
     "data": {
      "text/html": [
       "<div>\n",
       "<style scoped>\n",
       "    .dataframe tbody tr th:only-of-type {\n",
       "        vertical-align: middle;\n",
       "    }\n",
       "\n",
       "    .dataframe tbody tr th {\n",
       "        vertical-align: top;\n",
       "    }\n",
       "\n",
       "    .dataframe thead th {\n",
       "        text-align: right;\n",
       "    }\n",
       "</style>\n",
       "<table border=\"1\" class=\"dataframe\">\n",
       "  <thead>\n",
       "    <tr style=\"text-align: right;\">\n",
       "      <th></th>\n",
       "      <th>Route</th>\n",
       "      <th>TIME_TAKEN</th>\n",
       "      <th>TIME_TAKEN2</th>\n",
       "      <th>KMS</th>\n",
       "      <th>BUSNUM</th>\n",
       "      <th>Travels</th>\n",
       "    </tr>\n",
       "  </thead>\n",
       "  <tbody>\n",
       "    <tr>\n",
       "      <th>0</th>\n",
       "      <td>GNT HYD|HYD GNT</td>\n",
       "      <td>5.0</td>\n",
       "      <td>6.0</td>\n",
       "      <td>350</td>\n",
       "      <td>380</td>\n",
       "      <td>KESINENI</td>\n",
       "    </tr>\n",
       "    <tr>\n",
       "      <th>1</th>\n",
       "      <td>ANT GNT|GNT ANT</td>\n",
       "      <td>7.0</td>\n",
       "      <td>7.5</td>\n",
       "      <td>340</td>\n",
       "      <td>360</td>\n",
       "      <td>KKR</td>\n",
       "    </tr>\n",
       "  </tbody>\n",
       "</table>\n",
       "</div>"
      ],
      "text/plain": [
       "             Route  TIME_TAKEN  TIME_TAKEN2  KMS  BUSNUM   Travels\n",
       "0  GNT HYD|HYD GNT         5.0          6.0  350     380  KESINENI\n",
       "1  ANT GNT|GNT ANT         7.0          7.5  340     360       KKR"
      ]
     },
     "execution_count": 164,
     "metadata": {},
     "output_type": "execute_result"
    }
   ],
   "source": [
    "pd.DataFrame(valuess,columns =[ 'Route','TIME_TAKEN','TIME_TAKEN2','KMS','BUSNUM','Travels'] )"
   ]
  },
  {
   "cell_type": "code",
   "execution_count": null,
   "metadata": {},
   "outputs": [],
   "source": []
  }
 ],
 "metadata": {
  "kernelspec": {
   "display_name": "Python 3",
   "language": "python",
   "name": "python3"
  },
  "language_info": {
   "codemirror_mode": {
    "name": "ipython",
    "version": 3
   },
   "file_extension": ".py",
   "mimetype": "text/x-python",
   "name": "python",
   "nbconvert_exporter": "python",
   "pygments_lexer": "ipython3",
   "version": "3.7.7"
  }
 },
 "nbformat": 4,
 "nbformat_minor": 4
}
